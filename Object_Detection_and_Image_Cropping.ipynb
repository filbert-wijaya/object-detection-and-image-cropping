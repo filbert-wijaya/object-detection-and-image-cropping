{
  "cells": [
    {
      "cell_type": "markdown",
      "metadata": {
        "id": "CxmDMK4yupqg"
      },
      "source": [
        "# Object Detection and Image Cropping"
      ]
    },
    {
      "cell_type": "markdown",
      "source": [
        "This notebook will use [Object Detection model from TensorFlow Hub](https://www.tensorflow.org/hub/tutorials/object_detection)"
      ],
      "metadata": {
        "id": "V07Tnp3OgQz3"
      }
    },
    {
      "cell_type": "markdown",
      "metadata": {
        "id": "v4XGxDrCkeip"
      },
      "source": [
        "## Setup\n"
      ]
    },
    {
      "cell_type": "code",
      "execution_count": 1,
      "metadata": {
        "id": "6cPY9Ou4sWs_"
      },
      "outputs": [],
      "source": [
        "import tensorflow as tf\n",
        "import tensorflow_hub as hub\n",
        "import numpy as np\n",
        "import cv2"
      ]
    },
    {
      "cell_type": "code",
      "source": [
        "image_path = 'image.jpg'"
      ],
      "metadata": {
        "id": "5PIvOOa4F8D8"
      },
      "execution_count": 2,
      "outputs": []
    },
    {
      "cell_type": "markdown",
      "source": [
        "## Object Detection"
      ],
      "metadata": {
        "id": "qTfunX42o82V"
      }
    },
    {
      "cell_type": "markdown",
      "source": [
        "**FasterRCNN+InceptionResNet V2**"
      ],
      "metadata": {
        "id": "HNORFIB8faqk"
      }
    },
    {
      "cell_type": "code",
      "source": [
        "module_handle = \"https://tfhub.dev/google/faster_rcnn/openimages_v4/inception_resnet_v2/1\"\n",
        "\n",
        "detector = hub.load(module_handle).signatures['default']"
      ],
      "metadata": {
        "id": "31zov3dBFXoW"
      },
      "execution_count": 3,
      "outputs": []
    },
    {
      "cell_type": "code",
      "execution_count": 4,
      "metadata": {
        "id": "znW8Fq1EC0x7"
      },
      "outputs": [],
      "source": [
        "def load_img(path):\n",
        "  img = tf.io.read_file(path)\n",
        "  img = tf.image.decode_jpeg(img, channels=3)\n",
        "  return img"
      ]
    },
    {
      "cell_type": "code",
      "execution_count": 5,
      "metadata": {
        "id": "kwGJV96WWBLH"
      },
      "outputs": [],
      "source": [
        "def run_detector(detector, path):\n",
        "  img = load_img(path)\n",
        "  h, w = img.shape[0], img.shape[1]\n",
        "\n",
        "  converted_img  = tf.image.convert_image_dtype(img, tf.float32)[tf.newaxis, ...]\n",
        "  result = detector(converted_img)\n",
        "\n",
        "  result = {key:value.numpy() for key,value in result.items()}\n",
        "\n",
        "  crop = {'score':[], 'boxes':[]}\n",
        "\n",
        "  for i,entity in enumerate(result['detection_class_entities']):\n",
        "    if entity == b'Person' and result['detection_scores'][i] > 0.4:\n",
        "      crop['score'].append(result['detection_scores'][i])\n",
        "      crop['boxes'].append(result['detection_boxes'][i])\n",
        "\n",
        "  if not crop.get('score'):\n",
        "      return [0, 0, 1, 1], h, w\n",
        "\n",
        "  return crop['boxes'][np.argmax(crop['score'])], h, w"
      ]
    },
    {
      "cell_type": "markdown",
      "source": [
        "## Image Cropping"
      ],
      "metadata": {
        "id": "93TaLzSWo0yG"
      }
    },
    {
      "cell_type": "code",
      "source": [
        "def crop_image(detector, path):\n",
        "  boxes, h, w = run_detector(detector, path)\n",
        "  image = cv2.imread(path, cv2.IMREAD_COLOR)\n",
        "  extension = path.split('.')[-1]\n",
        "  cropped_image = image[int(boxes[0] * (h-1)):(int(boxes[2] * (h-1)))+1, int(boxes[1] * (w-1)):(int(boxes[3] * (w-1)))+1]\n",
        "  cv2.imwrite(f'result.{extension}', cropped_image)"
      ],
      "metadata": {
        "id": "ft6RZNalJasT"
      },
      "execution_count": 6,
      "outputs": []
    },
    {
      "cell_type": "code",
      "source": [
        "crop_image(detector, image_path)"
      ],
      "metadata": {
        "id": "Lf63eEimLgd3"
      },
      "execution_count": 7,
      "outputs": []
    }
  ],
  "metadata": {
    "accelerator": "GPU",
    "colab": {
      "provenance": []
    },
    "kernelspec": {
      "display_name": "Python 3",
      "name": "python3"
    }
  },
  "nbformat": 4,
  "nbformat_minor": 0
}